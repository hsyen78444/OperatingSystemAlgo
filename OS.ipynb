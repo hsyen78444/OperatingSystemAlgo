{
  "nbformat": 4,
  "nbformat_minor": 0,
  "metadata": {
    "colab": {
      "provenance": [],
      "toc_visible": true,
      "authorship_tag": "ABX9TyNQqodaRKvU8Cj57sl2/vGe",
      "include_colab_link": true
    },
    "kernelspec": {
      "name": "python3",
      "display_name": "Python 3"
    },
    "language_info": {
      "name": "python"
    }
  },
  "cells": [
    {
      "cell_type": "markdown",
      "metadata": {
        "id": "view-in-github",
        "colab_type": "text"
      },
      "source": [
        "<a href=\"https://colab.research.google.com/github/hsyen78444/OperatingSystemAlgo/blob/main/OS.ipynb\" target=\"_parent\"><img src=\"https://colab.research.google.com/assets/colab-badge.svg\" alt=\"Open In Colab\"/></a>"
      ]
    },
    {
      "cell_type": "markdown",
      "source": [
        "#FCFS (Lab1)"
      ],
      "metadata": {
        "id": "f33gOlLVlwhM"
      }
    },
    {
      "cell_type": "code",
      "execution_count": null,
      "metadata": {
        "colab": {
          "base_uri": "https://localhost:8080/"
        },
        "id": "l0cy3Hdwi8y8",
        "outputId": "b2452783-8cb8-428d-9f55-b7d620e0d3a6"
      },
      "outputs": [
        {
          "output_type": "stream",
          "name": "stdout",
          "text": [
            "FCFS CPU Scheduling Simulation\n",
            "Enter the number of processes: 5\n",
            "Enter burst time for Process P1: 1\n",
            "Enter burst time for Process P2: 2\n",
            "Enter burst time for Process P3: 3\n",
            "Enter burst time for Process P4: 4\n",
            "Enter burst time for Process P5: 5\n",
            "\n",
            "Process | Burst Time | Waiting Time | Turnaround Time\n",
            "  P1     |     1      |      0       |        1\n",
            "  P2     |     2      |      1       |        3\n",
            "  P3     |     3      |      3       |        6\n",
            "  P4     |     4      |      6       |        10\n",
            "  P5     |     5      |      10       |        15\n"
          ]
        }
      ],
      "source": [
        "def fcfs_scheduling(processes, burst_times):\n",
        "   n = len(processes)\n",
        "   waiting_time = [0] * n\n",
        "   turnaround_time = [0] * n\n",
        "   start_time = [0] * n\n",
        "   completion_time = [0] * n\n",
        "\n",
        "   # First process starts at time 0\n",
        "   start_time[0] = 0\n",
        "   completion_time[0] = burst_times[0]\n",
        "   turnaround_time[0] = burst_times[0]\n",
        "   waiting_time[0] = 0\n",
        "\n",
        "   # Loop through remaining processes\n",
        "   for i in range(1, n):\n",
        "       start_time[i] = completion_time[i - 1]\n",
        "       completion_time[i] = start_time[i] + burst_times[i]\n",
        "       turnaround_time[i] = completion_time[i]\n",
        "       waiting_time[i] = turnaround_time[i] - burst_times[i]\n",
        "\n",
        "   # Output results\n",
        "   print(\"\\nProcess | Burst Time | Waiting Time | Turnaround Time\")\n",
        "   for i in range(n):\n",
        "       print(f\"  P{processes[i]}     |     {burst_times[i]}      |      {waiting_time[i]}       |        {turnaround_time[i]}\")\n",
        "\n",
        "def main():\n",
        "   print(\"FCFS CPU Scheduling Simulation\")\n",
        "   n = int(input(\"Enter the number of processes: \"))\n",
        "\n",
        "   processes = []\n",
        "   burst_times = []\n",
        "\n",
        "   for i in range(n):\n",
        "       processes.append(i + 1)\n",
        "       bt = int(input(f\"Enter burst time for Process P{i + 1}: \"))\n",
        "       burst_times.append(bt)\n",
        "\n",
        "   fcfs_scheduling(processes, burst_times)\n",
        "\n",
        "# Run the program\n",
        "if __name__ == \"__main__\":\n",
        "   main()"
      ]
    },
    {
      "cell_type": "markdown",
      "source": [
        "# SIF (Lab2)"
      ],
      "metadata": {
        "id": "rtyS3cXlXM_q"
      }
    },
    {
      "cell_type": "code",
      "source": [],
      "metadata": {
        "id": "3zxDkGfFXbuu"
      },
      "execution_count": null,
      "outputs": []
    }
  ]
}